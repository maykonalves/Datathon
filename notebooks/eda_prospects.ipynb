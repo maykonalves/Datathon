{
 "cells": [
  {
   "cell_type": "code",
   "execution_count": 1,
   "id": "f0f8b9af",
   "metadata": {},
   "outputs": [],
   "source": [
    "import os\n",
    "import json\n",
    "import pandas as pd"
   ]
  },
  {
   "cell_type": "code",
   "execution_count": 2,
   "id": "a315514e",
   "metadata": {},
   "outputs": [],
   "source": [
    "FILE = '../data/raw/prospects.json'\n",
    "\n",
    "def load_json(path):\n",
    "    with open(path, 'r', encoding='utf-8') as f:\n",
    "        return json.load(f)\n",
    "\n",
    "# Applicants\n",
    "data = load_json(FILE)\n",
    "df = pd.DataFrame([\n",
    "    {\n",
    "        'vaga_id': vaga_id,\n",
    "        'candidato_id': p.get('codigo'),\n",
    "        **p\n",
    "    }\n",
    "    for vaga_id, vaga in data.items()\n",
    "    for p in vaga.get('prospects', [])\n",
    "])"
   ]
  },
  {
   "cell_type": "code",
   "execution_count": 3,
   "id": "4599b4e3",
   "metadata": {},
   "outputs": [
    {
     "name": "stdout",
     "output_type": "stream",
     "text": [
      "<class 'pandas.core.frame.DataFrame'>\n",
      "RangeIndex: 53759 entries, 0 to 53758\n",
      "Data columns (total 9 columns):\n",
      " #   Column              Non-Null Count  Dtype \n",
      "---  ------              --------------  ----- \n",
      " 0   vaga_id             53759 non-null  object\n",
      " 1   candidato_id        53759 non-null  object\n",
      " 2   nome                53759 non-null  object\n",
      " 3   codigo              53759 non-null  object\n",
      " 4   situacao_candidado  53759 non-null  object\n",
      " 5   data_candidatura    53759 non-null  object\n",
      " 6   ultima_atualizacao  53759 non-null  object\n",
      " 7   comentario          53759 non-null  object\n",
      " 8   recrutador          53759 non-null  object\n",
      "dtypes: object(9)\n",
      "memory usage: 3.7+ MB\n"
     ]
    }
   ],
   "source": [
    "df.info()"
   ]
  },
  {
   "cell_type": "code",
   "execution_count": 4,
   "id": "8e7816f9",
   "metadata": {},
   "outputs": [
    {
     "data": {
      "text/plain": [
       "Index(['vaga_id', 'candidato_id', 'nome', 'codigo', 'situacao_candidado',\n",
       "       'data_candidatura', 'ultima_atualizacao', 'comentario', 'recrutador'],\n",
       "      dtype='object')"
      ]
     },
     "execution_count": 4,
     "metadata": {},
     "output_type": "execute_result"
    }
   ],
   "source": [
    "df.columns"
   ]
  },
  {
   "cell_type": "code",
   "execution_count": 5,
   "id": "f0aa9f52",
   "metadata": {},
   "outputs": [
    {
     "name": "stdout",
     "output_type": "stream",
     "text": [
      "Column 'vaga_id' has 11279 unique values.\n",
      "Column 'candidato_id' has 29405 unique values.\n",
      "Column 'nome' has 26247 unique values.\n",
      "Column 'codigo' has 29405 unique values.\n",
      "Column 'situacao_candidado' has 21 unique values.\n",
      "Column 'data_candidatura' has 1793 unique values.\n",
      "Column 'ultima_atualizacao' has 1584 unique values.\n",
      "Column 'comentario' has 12194 unique values.\n",
      "Column 'recrutador' has 77 unique values.\n"
     ]
    }
   ],
   "source": [
    "for col in df.columns:\n",
    "    if df[col].dtype == 'object':\n",
    "        print(f\"Column '{col}' has {df[col].nunique()} unique values.\")"
   ]
  },
  {
   "cell_type": "code",
   "execution_count": 6,
   "id": "83585134",
   "metadata": {},
   "outputs": [],
   "source": [
    "df = df.drop(\n",
    "    ['nome',\n",
    "     'codigo',\n",
    "     'nome',\n",
    "     'recrutador'], axis=1)"
   ]
  },
  {
   "cell_type": "code",
   "execution_count": 7,
   "id": "18bd2d4f",
   "metadata": {},
   "outputs": [
    {
     "data": {
      "text/html": [
       "<div>\n",
       "<style scoped>\n",
       "    .dataframe tbody tr th:only-of-type {\n",
       "        vertical-align: middle;\n",
       "    }\n",
       "\n",
       "    .dataframe tbody tr th {\n",
       "        vertical-align: top;\n",
       "    }\n",
       "\n",
       "    .dataframe thead th {\n",
       "        text-align: right;\n",
       "    }\n",
       "</style>\n",
       "<table border=\"1\" class=\"dataframe\">\n",
       "  <thead>\n",
       "    <tr style=\"text-align: right;\">\n",
       "      <th></th>\n",
       "      <th>vaga_id</th>\n",
       "      <th>candidato_id</th>\n",
       "      <th>situacao_candidado</th>\n",
       "      <th>data_candidatura</th>\n",
       "      <th>ultima_atualizacao</th>\n",
       "      <th>comentario</th>\n",
       "    </tr>\n",
       "  </thead>\n",
       "  <tbody>\n",
       "    <tr>\n",
       "      <th>0</th>\n",
       "      <td>4530</td>\n",
       "      <td>25632</td>\n",
       "      <td>Encaminhado ao Requisitante</td>\n",
       "      <td>25-03-2021</td>\n",
       "      <td>25-03-2021</td>\n",
       "      <td>Encaminhado para  - PJ R$ 72,00/hora</td>\n",
       "    </tr>\n",
       "    <tr>\n",
       "      <th>1</th>\n",
       "      <td>4530</td>\n",
       "      <td>25529</td>\n",
       "      <td>Encaminhado ao Requisitante</td>\n",
       "      <td>22-03-2021</td>\n",
       "      <td>23-03-2021</td>\n",
       "      <td>encaminhado para  - R$ 6.000,00 – CLT Full , n...</td>\n",
       "    </tr>\n",
       "    <tr>\n",
       "      <th>2</th>\n",
       "      <td>4531</td>\n",
       "      <td>25364</td>\n",
       "      <td>Contratado pela Decision</td>\n",
       "      <td>17-03-2021</td>\n",
       "      <td>12-04-2021</td>\n",
       "      <td>Data de Inicio: 12/04/2021</td>\n",
       "    </tr>\n",
       "    <tr>\n",
       "      <th>3</th>\n",
       "      <td>4531</td>\n",
       "      <td>25360</td>\n",
       "      <td>Encaminhado ao Requisitante</td>\n",
       "      <td>17-03-2021</td>\n",
       "      <td>17-03-2021</td>\n",
       "      <td></td>\n",
       "    </tr>\n",
       "    <tr>\n",
       "      <th>4</th>\n",
       "      <td>4533</td>\n",
       "      <td>26338</td>\n",
       "      <td>Contratado pela Decision</td>\n",
       "      <td>29-04-2021</td>\n",
       "      <td>18-05-2021</td>\n",
       "      <td></td>\n",
       "    </tr>\n",
       "  </tbody>\n",
       "</table>\n",
       "</div>"
      ],
      "text/plain": [
       "  vaga_id candidato_id           situacao_candidado data_candidatura  \\\n",
       "0    4530        25632  Encaminhado ao Requisitante       25-03-2021   \n",
       "1    4530        25529  Encaminhado ao Requisitante       22-03-2021   \n",
       "2    4531        25364     Contratado pela Decision       17-03-2021   \n",
       "3    4531        25360  Encaminhado ao Requisitante       17-03-2021   \n",
       "4    4533        26338     Contratado pela Decision       29-04-2021   \n",
       "\n",
       "  ultima_atualizacao                                         comentario  \n",
       "0         25-03-2021               Encaminhado para  - PJ R$ 72,00/hora  \n",
       "1         23-03-2021  encaminhado para  - R$ 6.000,00 – CLT Full , n...  \n",
       "2         12-04-2021                         Data de Inicio: 12/04/2021  \n",
       "3         17-03-2021                                                     \n",
       "4         18-05-2021                                                     "
      ]
     },
     "execution_count": 7,
     "metadata": {},
     "output_type": "execute_result"
    }
   ],
   "source": [
    "df.head()"
   ]
  },
  {
   "cell_type": "code",
   "execution_count": 8,
   "id": "0a2f8fdf",
   "metadata": {},
   "outputs": [
    {
     "data": {
      "text/plain": [
       "array(['Encaminhado ao Requisitante', 'Contratado pela Decision',\n",
       "       'Desistiu', 'Documentação PJ', 'Não Aprovado pelo Cliente',\n",
       "       'Prospect', 'Não Aprovado pelo RH', 'Aprovado',\n",
       "       'Não Aprovado pelo Requisitante', 'Inscrito', 'Entrevista Técnica',\n",
       "       'Em avaliação pelo RH', 'Contratado como Hunting',\n",
       "       'Desistiu da Contratação', 'Entrevista com Cliente',\n",
       "       'Documentação CLT', 'Recusado', 'Documentação Cooperado',\n",
       "       'Sem interesse nesta vaga', 'Encaminhar Proposta',\n",
       "       'Proposta Aceita'], dtype=object)"
      ]
     },
     "execution_count": 8,
     "metadata": {},
     "output_type": "execute_result"
    }
   ],
   "source": [
    "df.situacao_candidado.unique()"
   ]
  },
  {
   "cell_type": "code",
   "execution_count": 10,
   "id": "3c6e238b",
   "metadata": {},
   "outputs": [
    {
     "data": {
      "text/plain": [
       "situacao_candidado\n",
       "Prospect                          20021\n",
       "Encaminhado ao Requisitante       16122\n",
       "Inscrito                           3980\n",
       "Não Aprovado pelo Cliente          3492\n",
       "Contratado pela Decision           2758\n",
       "Desistiu                           2349\n",
       "Não Aprovado pelo RH               1765\n",
       "Não Aprovado pelo Requisitante      765\n",
       "Entrevista Técnica                  579\n",
       "Sem interesse nesta vaga            576\n",
       "Entrevista com Cliente              469\n",
       "Em avaliação pelo RH                375\n",
       "Contratado como Hunting             226\n",
       "Aprovado                            209\n",
       "Desistiu da Contratação              59\n",
       "Documentação PJ                       4\n",
       "Documentação CLT                      3\n",
       "Recusado                              2\n",
       "Documentação Cooperado                2\n",
       "Encaminhar Proposta                   2\n",
       "Proposta Aceita                       1\n",
       "Name: count, dtype: int64"
      ]
     },
     "execution_count": 10,
     "metadata": {},
     "output_type": "execute_result"
    }
   ],
   "source": [
    "df.situacao_candidado.value_counts()"
   ]
  }
 ],
 "metadata": {
  "kernelspec": {
   "display_name": "Python 3",
   "language": "python",
   "name": "python3"
  },
  "language_info": {
   "codemirror_mode": {
    "name": "ipython",
    "version": 3
   },
   "file_extension": ".py",
   "mimetype": "text/x-python",
   "name": "python",
   "nbconvert_exporter": "python",
   "pygments_lexer": "ipython3",
   "version": "3.12.10"
  }
 },
 "nbformat": 4,
 "nbformat_minor": 5
}
